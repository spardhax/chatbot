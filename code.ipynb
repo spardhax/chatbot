from nltk.chat.util import Chat,reflections
pairs=[
    ['My name is (.*)',['Hi %1']],
    ['(hey|hello|yo|hi)',['How are you today?','Nice to meet you!',"Hope you're doing good"]],
    ['(.*) is fun',['%1 is indeed fun']],
    #['(.*)(loacation|city)?',['Gurgaon,India!!']],
    ['(.*) (created you)?',['Spardha']],
    #['(.*) (is your name)?',['Zac']]
]
my_reflections={
    'hi':"how are you today?",
    'hello':'hey there'
}

chat=Chat(pairs,my_reflections)
#chat._substitute('hi')
chat.converse()
